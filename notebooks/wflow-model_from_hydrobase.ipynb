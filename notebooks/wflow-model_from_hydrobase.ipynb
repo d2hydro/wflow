{
 "cells": [
  {
   "cell_type": "markdown",
   "id": "aadcf479",
   "metadata": {},
   "source": [
    "# Introduction\n",
    "\n",
    "A complete wflow-model consists of three files:\n",
    "- `forcing.nc`: a NetCDF file with forcing variables, rainfall and evapotranspiration\n",
    "- `staticmaps.nc`: a NetCDF file with all static parameters derived from and/or related to elevation, land-use and soil type.\n",
    "- `config.toml`: a file relating model-parameters to variables in the NetCDF files"
   ]
  },
  {
   "cell_type": "code",
   "execution_count": null,
   "id": "ddd8d5e8",
   "metadata": {},
   "outputs": [],
   "source": []
  },
  {
   "cell_type": "markdown",
   "id": "8726805a",
   "metadata": {},
   "source": [
    "## Create forcing.nc"
   ]
  },
  {
   "cell_type": "code",
   "execution_count": null,
   "id": "21630c2c",
   "metadata": {},
   "outputs": [],
   "source": []
  },
  {
   "cell_type": "markdown",
   "id": "66dac2ed",
   "metadata": {},
   "source": [
    "## Create staticmaps.nc"
   ]
  },
  {
   "cell_type": "code",
   "execution_count": null,
   "id": "fa9750bc",
   "metadata": {},
   "outputs": [],
   "source": []
  },
  {
   "cell_type": "markdown",
   "id": "bdb97e43",
   "metadata": {},
   "source": [
    "## Create config.toml"
   ]
  },
  {
   "cell_type": "code",
   "execution_count": null,
   "id": "ffd4a15a",
   "metadata": {},
   "outputs": [],
   "source": []
  },
  {
   "cell_type": "markdown",
   "id": "f5e289e3",
   "metadata": {},
   "source": [
    "## run your model"
   ]
  },
  {
   "cell_type": "code",
   "execution_count": null,
   "id": "c39f4b50",
   "metadata": {},
   "outputs": [],
   "source": []
  }
 ],
 "metadata": {
  "kernelspec": {
   "display_name": "Python 3 (ipykernel)",
   "language": "python",
   "name": "python3"
  },
  "language_info": {
   "codemirror_mode": {
    "name": "ipython",
    "version": 3
   },
   "file_extension": ".py",
   "mimetype": "text/x-python",
   "name": "python",
   "nbconvert_exporter": "python",
   "pygments_lexer": "ipython3",
   "version": "3.9.7"
  }
 },
 "nbformat": 4,
 "nbformat_minor": 5
}
